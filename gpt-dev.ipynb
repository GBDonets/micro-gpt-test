{
 "cells": [
  {
   "cell_type": "markdown",
   "metadata": {},
   "source": [
    "## Read training dataset"
   ]
  },
  {
   "cell_type": "code",
   "execution_count": 7,
   "metadata": {},
   "outputs": [
    {
     "name": "stdout",
     "output_type": "stream",
     "text": [
      "training dataset length: 1000000\n"
     ]
    }
   ],
   "source": [
    "with open('data/Synthetic-Persona-Chat_train.csv', encoding='utf-8') as f:\n",
    "    training_set = f.read()[:1000000]\n",
    "\n",
    "with open('data/Synthetic-Persona-Chat_valid.csv', encoding='utf-8') as f:\n",
    "    validation_set = f.read()[:1000000]\n",
    "    \n",
    "print(\"training dataset length:\", len(training_set))"
   ]
  },
  {
   "cell_type": "code",
   "execution_count": 2,
   "metadata": {},
   "outputs": [
    {
     "name": "stdout",
     "output_type": "stream",
     "text": [
      "user 1 personas,user 2 personas,Best Generated Conversation\n",
      "\"I am 32.\n",
      "I do not want a job.\n",
      "I play video games all day.\n",
      "I still live at home with my parents.\",\"My favorite drink is iced coffee.\n",
      "I have a black belt in karate.\n",
      "I m in a jazz band and play the saxophone.\n",
      "I vacation along lake michigan every summer.\",\"User 1: Hi! I'm [user 1's name].\n",
      "User 2: Hi [user 1's name], I'm [user 2's name].\n",
      "User 1: What do you do for fun?\n",
      "User 2: I like to play video games, go to the beach, and read.\n",
      "User 1: I like to play video games too! I'm not much of a reader, though.\n",
      "User 2: What video games do you like to play?\n",
      "User 1: I like to play a lot of different games, but I'm really into competitive online games right now.\n",
      "User 2: I'm not really into competitive games, I like to play more relaxing games.\n",
      "User 1: That's cool. What kind of relaxing games do you like to play?\n",
      "User 2: I like to play puzzle games, simulation games, and story-based games.\n",
      "User 1: I've never been much of a puzzle game person,\n"
     ]
    }
   ],
   "source": [
    "print(training_set[:1000])"
   ]
  },
  {
   "cell_type": "markdown",
   "metadata": {},
   "source": [
    "## Tokenize the dataset"
   ]
  },
  {
   "cell_type": "markdown",
   "metadata": {},
   "source": [
    "Simple tokenizer"
   ]
  },
  {
   "cell_type": "code",
   "execution_count": 9,
   "metadata": {},
   "outputs": [
    {
     "name": "stdout",
     "output_type": "stream",
     "text": [
      "vocab size:  90\n",
      "torch.Size([1000000]) torch.int64\n"
     ]
    }
   ],
   "source": [
    "chars = sorted(list(set(training_set + validation_set)))\n",
    "vocab_size = len(chars)\n",
    "\n",
    "stoi = { ch:i for i,ch in enumerate(chars) }\n",
    "itos = { i:ch for i,ch in enumerate(chars) }\n",
    "encode = lambda s: [stoi[c] for c in s]\n",
    "decode = lambda l: ''.join([itos[i] for i in l])\n",
    "\n",
    "print(\"vocab size: \", vocab_size)\n",
    "\n",
    "import torch\n",
    "\n",
    "training_data = torch.tensor(encode(training_set), dtype=torch.long)\n",
    "val_data = torch.tensor(encode(validation_set), dtype=torch.long)\n",
    "\n",
    "print(training_data.shape, training_data.dtype)"
   ]
  },
  {
   "cell_type": "markdown",
   "metadata": {},
   "source": [
    "Normal tokenizer for the future"
   ]
  },
  {
   "cell_type": "code",
   "execution_count": 5,
   "metadata": {},
   "outputs": [
    {
     "name": "stdout",
     "output_type": "stream",
     "text": [
      "torch.Size([86540]) torch.int64\n"
     ]
    }
   ],
   "source": [
    "# import tiktoken\n",
    "# import torch\n",
    "\n",
    "# enc = tiktoken.encoding_for_model(\"gpt-3.5-turbo\")\n",
    "# data = torch.tensor(enc.encode(trainingSet), dtype=torch.long)\n",
    "\n",
    "# print(data.shape, data.dtype)\n"
   ]
  },
  {
   "cell_type": "markdown",
   "metadata": {},
   "source": [
    "## Sample the dataset"
   ]
  },
  {
   "cell_type": "code",
   "execution_count": 10,
   "metadata": {},
   "outputs": [],
   "source": [
    "context_size = 8\n",
    "batch_size = 4\n",
    "max_iters = 3000\n",
    "eval_interval = 300\n",
    "learning_rate = 1e-2\n",
    "device = 'cuda'\n",
    "eval_iters = 200\n",
    "\n",
    "def get_batch(data: torch.Tensor) -> tuple[torch.Tensor, torch.Tensor]:\n",
    "    ix = torch.randint(len(data) - context_size, (batch_size,)) # get batch_size random points of data\n",
    "    x = torch.stack([data[i:i+context_size] for i in ix])\n",
    "    y = torch.stack([data[i+1:i+context_size+1] for i in ix])\n",
    "\n",
    "    x, y = x.to(device), y.to(device)\n",
    "    return x, y"
   ]
  },
  {
   "cell_type": "markdown",
   "metadata": {},
   "source": [
    "## Feed output to the transformer"
   ]
  },
  {
   "cell_type": "code",
   "execution_count": 12,
   "metadata": {},
   "outputs": [
    {
     "name": "stdout",
     "output_type": "stream",
     "text": [
      "torch.Size([32, 90])\n",
      "tensor(4.6958, device='cuda:0', grad_fn=<NllLossBackward0>)\n"
     ]
    }
   ],
   "source": [
    "import torch\n",
    "import torch.nn as nn\n",
    "from torch.nn import functional as F\n",
    "\n",
    "torch.manual_seed(1337)\n",
    "\n",
    "class BigramLanguageModel(nn.Module):\n",
    "\n",
    "    def __init__(self, vocab_size) -> None:\n",
    "        super().__init__()\n",
    "        self.token_embedding_table = nn.Embedding(vocab_size, vocab_size)\n",
    "\n",
    "    def forward(self, idx, targets=None):\n",
    "\n",
    "        # idx and targets are both (Batch, Time) tensor of integers\n",
    "        logits = self.token_embedding_table(idx) # (Batch, Time, Classes)\n",
    "\n",
    "        if targets is None:\n",
    "            loss = None\n",
    "        else:\n",
    "            B, T, C = logits.shape\n",
    "            logits = logits.view(B*T, C)\n",
    "            targets = targets.view(B*T)\n",
    "            loss = F.cross_entropy(logits, targets)\n",
    "\n",
    "        return logits, loss\n",
    "    \n",
    "    def generate(self, idx: torch.Tensor, max_new_tokens) -> torch.Tensor:\n",
    "        # idx is (B, T) array of indices in the current context\n",
    "        for _ in range(max_new_tokens):\n",
    "            logits, loss = self(idx)\n",
    "            logits = logits[:, -1, :] # (B, C)\n",
    "            probs = F.softmax(logits, dim=1) # (B, C), check definition\n",
    "            idx_next = torch.multinomial(probs, num_samples=1) # (B, 1), check definition\n",
    "            idx = torch.cat((idx, idx_next), dim=1) # (B, T+1)\n",
    "\n",
    "        return idx\n",
    "\n",
    "\n",
    "xb, yb = get_batch(training_data)\n",
    "    \n",
    "model = BigramLanguageModel(vocab_size)\n",
    "m = model.to(device)\n",
    "logits, loss = m(xb, yb)\n",
    "\n",
    "print(logits.shape)\n",
    "print(loss)"
   ]
  },
  {
   "cell_type": "markdown",
   "metadata": {},
   "source": [
    "## Training"
   ]
  },
  {
   "cell_type": "code",
   "execution_count": 14,
   "metadata": {},
   "outputs": [
    {
     "name": "stdout",
     "output_type": "stream",
     "text": [
      "step 0: train loss 4.9344, val loss 4.9390\n",
      "step 300: train loss 2.6250, val loss 2.6356\n",
      "step 600: train loss 2.2963, val loss 2.3137\n",
      "step 900: train loss 2.2410, val loss 2.2435\n",
      "step 1200: train loss 2.2139, val loss 2.2431\n",
      "step 1500: train loss 2.1943, val loss 2.2190\n",
      "step 1800: train loss 2.1942, val loss 2.2297\n",
      "step 2100: train loss 2.1965, val loss 2.2066\n",
      "step 2400: train loss 2.1939, val loss 2.2018\n",
      "step 2700: train loss 2.1867, val loss 2.2068\n",
      "\n",
      "Usushanirn.\n",
      "Use.\n",
      "Mam Br ar 1: balalos ourinen, atofBer Whar.\n",
      "Us aci, I we zzee ang ho d.\n",
      "Us, l!\n",
      "My Ro gay?\n",
      "Use or2: lour ante t I vet?\n",
      "USound at! I ly thino! 1: me see.\n",
      "Useo! thar64n atrf d 2: avove ounther likerec Yobe I way mpofery I'r fuin.\n",
      "Ust ricanks, in oreayoo I bovead sef Thar 2: agha nkes.\n",
      "\n",
      "I ililse ay I thamingrild loreralyolino s \"I y 1: I'se havound selyofubereav lore I 2: gl, fo 1: m t?\n",
      "Usit'msp Cab.\n",
      "I'so. wour ilali! boomerio, I pan Jal! me y doferk ple avis.\n",
      "Us fuildoondou I s! vi\n"
     ]
    }
   ],
   "source": [
    "@torch.no_grad()\n",
    "def estimate_loss():\n",
    "    out = {}\n",
    "    model.eval()\n",
    "    for split in [ 'train', 'val' ]:\n",
    "        losses = torch.zeros(eval_iters)\n",
    "        for k in range(eval_iters):\n",
    "            X, Y = get_batch(training_data if split == 'train' else val_data)\n",
    "            logits, loss = model(X, Y)\n",
    "            losses[k] = loss.item()\n",
    "        out[split] = losses.mean()\n",
    "    model.train()\n",
    "    \n",
    "    return out\n",
    "\n",
    "optimizer = torch.optim.AdamW(model.parameters(), lr=learning_rate)\n",
    "\n",
    "batch_size = 32\n",
    "\n",
    "for iter in range(max_iters):\n",
    "\n",
    "    if iter % eval_interval == 0:\n",
    "        losses = estimate_loss()\n",
    "        print(f\"step {iter}: train loss {losses['train']:.4f}, val loss {losses['val']:.4f}\")\n",
    "\n",
    "    # sample a batch of data\n",
    "    xb, yb = get_batch(training_data)\n",
    "\n",
    "    # evaluate the loss\n",
    "    logits, loss = model(xb, yb)\n",
    "    optimizer.zero_grad(set_to_none=True)\n",
    "    loss.backward()\n",
    "    optimizer.step()\n",
    "\n",
    "context = torch.zeros((1, 1), dtype=torch.long, device=device)\n",
    "print(decode(m.generate(context, max_new_tokens=500)[0].tolist()))"
   ]
  }
 ],
 "metadata": {
  "kernelspec": {
   "display_name": "Python 3",
   "language": "python",
   "name": "python3"
  },
  "language_info": {
   "codemirror_mode": {
    "name": "ipython",
    "version": 3
   },
   "file_extension": ".py",
   "mimetype": "text/x-python",
   "name": "python",
   "nbconvert_exporter": "python",
   "pygments_lexer": "ipython3",
   "version": "3.10.12"
  }
 },
 "nbformat": 4,
 "nbformat_minor": 2
}
