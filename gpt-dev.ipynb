{
 "cells": [
  {
   "cell_type": "markdown",
   "metadata": {},
   "source": [
    "## Read training dataset"
   ]
  },
  {
   "cell_type": "code",
   "execution_count": 2,
   "metadata": {},
   "outputs": [
    {
     "name": "stdout",
     "output_type": "stream",
     "text": [
      "training dataset length: 15880770\n"
     ]
    }
   ],
   "source": [
    "with open('data/Synthetic-Persona-Chat_train.csv', encoding='utf-8') as f:\n",
    "    training_set = f.read()\n",
    "\n",
    "with open('data/Synthetic-Persona-Chat_valid.csv', encoding='utf-8') as f:\n",
    "    validation_set = f.read()\n",
    "    \n",
    "print(\"training dataset length:\", len(training_set))"
   ]
  },
  {
   "cell_type": "code",
   "execution_count": 3,
   "metadata": {},
   "outputs": [
    {
     "name": "stdout",
     "output_type": "stream",
     "text": [
      "user 1 personas,user 2 personas,Best Generated Conversation\n",
      "\"I am 32.\n",
      "I do not want a job.\n",
      "I play video games all day.\n",
      "I still live at home with my parents.\",\"My favorite drink is iced coffee.\n",
      "I have a black belt in karate.\n",
      "I m in a jazz band and play the saxophone.\n",
      "I vacation along lake michigan every summer.\",\"User 1: Hi! I'm [user 1's name].\n",
      "User 2: Hi [user 1's name], I'm [user 2's name].\n",
      "User 1: What do you do for fun?\n",
      "User 2: I like to play video games, go to the beach, and read.\n",
      "User 1: I like to play video games too! I'm not much of a reader, though.\n",
      "User 2: What video games do you like to play?\n",
      "User 1: I like to play a lot of different games, but I'm really into competitive online games right now.\n",
      "User 2: I'm not really into competitive games, I like to play more relaxing games.\n",
      "User 1: That's cool. What kind of relaxing games do you like to play?\n",
      "User 2: I like to play puzzle games, simulation games, and story-based games.\n",
      "User 1: I've never been much of a puzzle game person,\n"
     ]
    }
   ],
   "source": [
    "print(training_set[:1000])"
   ]
  },
  {
   "cell_type": "markdown",
   "metadata": {},
   "source": [
    "## Tokenize the dataset"
   ]
  },
  {
   "cell_type": "markdown",
   "metadata": {},
   "source": [
    "Simple tokenizer"
   ]
  },
  {
   "cell_type": "code",
   "execution_count": 4,
   "metadata": {},
   "outputs": [
    {
     "name": "stdout",
     "output_type": "stream",
     "text": [
      "vocab size:  113\n",
      "torch.Size([15880770]) torch.int64\n"
     ]
    }
   ],
   "source": [
    "chars = sorted(list(set(training_set + validation_set)))\n",
    "vocab_size = len(chars)\n",
    "\n",
    "stoi = { ch:i for i,ch in enumerate(chars) }\n",
    "itos = { i:ch for i,ch in enumerate(chars) }\n",
    "encode = lambda s: [stoi[c] for c in s]\n",
    "decode = lambda l: ''.join([itos[i] for i in l])\n",
    "\n",
    "print(\"vocab size: \", vocab_size)\n",
    "\n",
    "import torch\n",
    "\n",
    "training_data = torch.tensor(encode(training_set), dtype=torch.long)\n",
    "val_data = torch.tensor(encode(validation_set), dtype=torch.long)\n",
    "\n",
    "print(training_data.shape, training_data.dtype)"
   ]
  },
  {
   "cell_type": "markdown",
   "metadata": {},
   "source": [
    "Normal tokenizer for the future"
   ]
  },
  {
   "cell_type": "code",
   "execution_count": 5,
   "metadata": {},
   "outputs": [
    {
     "name": "stdout",
     "output_type": "stream",
     "text": [
      "torch.Size([86540]) torch.int64\n"
     ]
    }
   ],
   "source": [
    "# import tiktoken\n",
    "# import torch\n",
    "\n",
    "# enc = tiktoken.encoding_for_model(\"gpt-3.5-turbo\")\n",
    "# data = torch.tensor(enc.encode(trainingSet), dtype=torch.long)\n",
    "\n",
    "# print(data.shape, data.dtype)\n"
   ]
  },
  {
   "cell_type": "markdown",
   "metadata": {},
   "source": [
    "## Self-attention"
   ]
  },
  {
   "cell_type": "code",
   "execution_count": 4,
   "metadata": {},
   "outputs": [],
   "source": [
    "# just averaging past example\n",
    "\n",
    "torch.manual_seed(1337)\n",
    "B,T,C = 4,8,2\n",
    "x = torch.randn(B,T,C)"
   ]
  },
  {
   "cell_type": "code",
   "execution_count": 5,
   "metadata": {},
   "outputs": [],
   "source": [
    "# logic example\n",
    "\n",
    "xbow = torch.zeros((B,T,C))\n",
    "\n",
    "for b in range(B):\n",
    "    for t in range(T):\n",
    "        xprev = x[b, :t+1] # (t, C)\n",
    "        xbow[b,t] = torch.mean(xprev, 0)"
   ]
  },
  {
   "cell_type": "code",
   "execution_count": 6,
   "metadata": {},
   "outputs": [
    {
     "data": {
      "text/plain": [
       "False"
      ]
     },
     "execution_count": 6,
     "metadata": {},
     "output_type": "execute_result"
    }
   ],
   "source": [
    "# vectorizing\n",
    "\n",
    "weights = torch.tril(torch.ones(T, T))\n",
    "weights = weights / weights.sum(1, keepdim=True)\n",
    "xbow2 = weights @ x # (B, T, T) @ (B, T, C) -> (B, T, C)\n",
    "\n",
    "torch.allclose(xbow, xbow2)"
   ]
  },
  {
   "cell_type": "code",
   "execution_count": 7,
   "metadata": {},
   "outputs": [
    {
     "data": {
      "text/plain": [
       "True"
      ]
     },
     "execution_count": 7,
     "metadata": {},
     "output_type": "execute_result"
    }
   ],
   "source": [
    "# softmax\n",
    "\n",
    "import torch.nn as nn\n",
    "from torch.nn import functional as F\n",
    "\n",
    "tril = torch.tril(torch.ones(T, T))\n",
    "weights = torch.zeros((T, T))\n",
    "weights = weights.masked_fill(tril == 0, float('-inf'))\n",
    "weights = F.softmax(weights, dim=-1)\n",
    "xbow3 = weights @ x\n",
    "\n",
    "torch.allclose(xbow2, xbow3)"
   ]
  },
  {
   "cell_type": "code",
   "execution_count": 5,
   "metadata": {},
   "outputs": [
    {
     "data": {
      "text/plain": [
       "torch.Size([4, 8, 16])"
      ]
     },
     "execution_count": 5,
     "metadata": {},
     "output_type": "execute_result"
    }
   ],
   "source": [
    "# self-attenton\n",
    "\n",
    "torch.manual_seed(1337)\n",
    "B,T,C = 4,8,32\n",
    "x = torch.randn(B,T,C)\n",
    "\n",
    "# single Head\n",
    "head_size = 16\n",
    "key = nn.Linear(C, head_size, bias=False)\n",
    "query = nn.Linear(C, head_size, bias=False)\n",
    "value = nn.Linear(C, head_size, bias=False)\n",
    "k = key(x) # (B, T, 16)\n",
    "q = query(x) # (B, T, 16)\n",
    "\n",
    "weights = q @ k.transpose(-2, -1) * head_size**-0.5 # (B, T, 16) @ (B, 16, T) ---> (B, T, T)\n",
    "\n",
    "tril = torch.tril(torch.ones(T, T))\n",
    "# weights = torch.zeros((T, T))\n",
    "weights = weights.masked_fill(tril == 0, float('-inf'))\n",
    "weights = F.softmax(weights, dim=-1)\n",
    "\n",
    "v = value(x)\n",
    "out = weights @ v\n",
    "\n",
    "out.shape"
   ]
  },
  {
   "cell_type": "markdown",
   "metadata": {},
   "source": [
    "## Sample the dataset"
   ]
  },
  {
   "cell_type": "code",
   "execution_count": 6,
   "metadata": {},
   "outputs": [],
   "source": [
    "# hyperparameters\n",
    "\n",
    "context_size = 8\n",
    "batch_size = 4\n",
    "max_iters = 5000\n",
    "eval_interval = 300\n",
    "learning_rate = 1e-3\n",
    "device = 'cuda'\n",
    "eval_iters = 200\n",
    "n_embd = 32\n",
    "\n",
    "def get_batch(data: torch.Tensor) -> tuple[torch.Tensor, torch.Tensor]:\n",
    "    ix = torch.randint(len(data) - context_size, (batch_size,)) # get batch_size random points of data\n",
    "    x = torch.stack([data[i:i+context_size] for i in ix])\n",
    "    y = torch.stack([data[i+1:i+context_size+1] for i in ix])\n",
    "\n",
    "    x, y = x.to(device), y.to(device)\n",
    "    return x, y"
   ]
  },
  {
   "cell_type": "markdown",
   "metadata": {},
   "source": [
    "## Feed output to the transformer"
   ]
  },
  {
   "cell_type": "code",
   "execution_count": 7,
   "metadata": {},
   "outputs": [],
   "source": [
    "# Attention head\n",
    "\n",
    "class Head(nn.Module):\n",
    "    def __init__(self, head_size):\n",
    "        super().__init__()\n",
    "        self.key = nn.Linear(C, head_size, bias=False)\n",
    "        self.query = nn.Linear(C, head_size, bias=False)\n",
    "        self.value = nn.Linear(C, head_size, bias=False)\n",
    "        self.register_buffer('tril', torch.tril(torch.ones(context_size, context_size)))\n",
    "\n",
    "    def forward(self, x):\n",
    "        B,T,C = x.shape\n",
    "        k = key(x) # (B, T, 16)\n",
    "        q = query(x) # (B, T, 16)\n",
    "\n",
    "        # compute attention scores (affinities)\n",
    "        weights = q @ k.transpose(-2,-1) * C**-0.5 # (B,T,C) @ (B,C,T) --> (B,T,T)\n",
    "        weights = weights.masked_fill(self.tril[:T, :T] == 0, float('-inf'))\n",
    "        weights = F.softmax(weights, dim=-1)\n",
    "        # weighted aggregation\n",
    "        v = self.value(x) # (B,T,C)\n",
    "        out = weights @ v # (B,T,T) @ (B,T,C) -> (B,T,C)\n",
    "\n",
    "        return out"
   ]
  },
  {
   "cell_type": "code",
   "execution_count": 9,
   "metadata": {},
   "outputs": [
    {
     "ename": "RuntimeError",
     "evalue": "Found no NVIDIA driver on your system. Please check that you have an NVIDIA GPU and installed a driver from http://www.nvidia.com/Download/index.aspx",
     "output_type": "error",
     "traceback": [
      "\u001b[0;31m---------------------------------------------------------------------------\u001b[0m",
      "\u001b[0;31mRuntimeError\u001b[0m                              Traceback (most recent call last)",
      "Cell \u001b[0;32mIn[9], line 56\u001b[0m\n\u001b[1;32m     51\u001b[0m             idx \u001b[38;5;241m=\u001b[39m torch\u001b[38;5;241m.\u001b[39mcat((idx, idx_next), dim\u001b[38;5;241m=\u001b[39m\u001b[38;5;241m1\u001b[39m) \u001b[38;5;66;03m# (B, T+1)\u001b[39;00m\n\u001b[1;32m     53\u001b[0m         \u001b[38;5;28;01mreturn\u001b[39;00m idx\n\u001b[0;32m---> 56\u001b[0m xb, yb \u001b[38;5;241m=\u001b[39m \u001b[43mget_batch\u001b[49m\u001b[43m(\u001b[49m\u001b[43mtraining_data\u001b[49m\u001b[43m)\u001b[49m\n\u001b[1;32m     58\u001b[0m model \u001b[38;5;241m=\u001b[39m BigramLanguageModel()\n\u001b[1;32m     59\u001b[0m m \u001b[38;5;241m=\u001b[39m model\u001b[38;5;241m.\u001b[39mto(device)\n",
      "Cell \u001b[0;32mIn[6], line 17\u001b[0m, in \u001b[0;36mget_batch\u001b[0;34m(data)\u001b[0m\n\u001b[1;32m     14\u001b[0m x \u001b[38;5;241m=\u001b[39m torch\u001b[38;5;241m.\u001b[39mstack([data[i:i\u001b[38;5;241m+\u001b[39mcontext_size] \u001b[38;5;28;01mfor\u001b[39;00m i \u001b[38;5;129;01min\u001b[39;00m ix])\n\u001b[1;32m     15\u001b[0m y \u001b[38;5;241m=\u001b[39m torch\u001b[38;5;241m.\u001b[39mstack([data[i\u001b[38;5;241m+\u001b[39m\u001b[38;5;241m1\u001b[39m:i\u001b[38;5;241m+\u001b[39mcontext_size\u001b[38;5;241m+\u001b[39m\u001b[38;5;241m1\u001b[39m] \u001b[38;5;28;01mfor\u001b[39;00m i \u001b[38;5;129;01min\u001b[39;00m ix])\n\u001b[0;32m---> 17\u001b[0m x, y \u001b[38;5;241m=\u001b[39m \u001b[43mx\u001b[49m\u001b[38;5;241;43m.\u001b[39;49m\u001b[43mto\u001b[49m\u001b[43m(\u001b[49m\u001b[43mdevice\u001b[49m\u001b[43m)\u001b[49m, y\u001b[38;5;241m.\u001b[39mto(device)\n\u001b[1;32m     18\u001b[0m \u001b[38;5;28;01mreturn\u001b[39;00m x, y\n",
      "File \u001b[0;32m/usr/local/lib/python3.10/dist-packages/torch/cuda/__init__.py:314\u001b[0m, in \u001b[0;36m_lazy_init\u001b[0;34m()\u001b[0m\n\u001b[1;32m    312\u001b[0m \u001b[38;5;28;01mif\u001b[39;00m \u001b[38;5;124m\"\u001b[39m\u001b[38;5;124mCUDA_MODULE_LOADING\u001b[39m\u001b[38;5;124m\"\u001b[39m \u001b[38;5;129;01mnot\u001b[39;00m \u001b[38;5;129;01min\u001b[39;00m os\u001b[38;5;241m.\u001b[39menviron:\n\u001b[1;32m    313\u001b[0m     os\u001b[38;5;241m.\u001b[39menviron[\u001b[38;5;124m\"\u001b[39m\u001b[38;5;124mCUDA_MODULE_LOADING\u001b[39m\u001b[38;5;124m\"\u001b[39m] \u001b[38;5;241m=\u001b[39m \u001b[38;5;124m\"\u001b[39m\u001b[38;5;124mLAZY\u001b[39m\u001b[38;5;124m\"\u001b[39m\n\u001b[0;32m--> 314\u001b[0m \u001b[43mtorch\u001b[49m\u001b[38;5;241;43m.\u001b[39;49m\u001b[43m_C\u001b[49m\u001b[38;5;241;43m.\u001b[39;49m\u001b[43m_cuda_init\u001b[49m\u001b[43m(\u001b[49m\u001b[43m)\u001b[49m\n\u001b[1;32m    315\u001b[0m \u001b[38;5;66;03m# Some of the queued calls may reentrantly call _lazy_init();\u001b[39;00m\n\u001b[1;32m    316\u001b[0m \u001b[38;5;66;03m# we need to just return without initializing in that case.\u001b[39;00m\n\u001b[1;32m    317\u001b[0m \u001b[38;5;66;03m# However, we must not let any *other* threads in!\u001b[39;00m\n\u001b[1;32m    318\u001b[0m _tls\u001b[38;5;241m.\u001b[39mis_initializing \u001b[38;5;241m=\u001b[39m \u001b[38;5;28;01mTrue\u001b[39;00m\n",
      "\u001b[0;31mRuntimeError\u001b[0m: Found no NVIDIA driver on your system. Please check that you have an NVIDIA GPU and installed a driver from http://www.nvidia.com/Download/index.aspx"
     ]
    }
   ],
   "source": [
    "import torch\n",
    "import torch.nn as nn\n",
    "from torch.nn import functional as F\n",
    "\n",
    "torch.manual_seed(1337)\n",
    "\n",
    "class BigramLanguageModel(nn.Module):\n",
    "\n",
    "    def __init__(self) -> None:\n",
    "        super().__init__()\n",
    "        self.token_embedding_table = nn.Embedding(vocab_size, n_embd)\n",
    "        self.position_embedding_table = nn.Embedding(context_size, n_embd)\n",
    "        self.sa_head = Head(n_embd)\n",
    "        self.lm_head = nn.Linear(n_embd, vocab_size)\n",
    "\n",
    "    def forward(self, idx, targets=None):\n",
    "        B, T = idx.shape\n",
    "\n",
    "        # idx and targets are both (Batch, Time) tensor of integers\n",
    "        tok_embd = self.token_embedding_table(idx) # (Batch, Time, Channels)\n",
    "        pos_embd = self.position_embedding_table(torch.arange(T, device=device)) # (T,C)\n",
    "        x = tok_embd + pos_embd # (B,T,C)\n",
    "        x = self.sa_head(x) # apply one head of self-attention\n",
    "        logits = self.lm_head(x) # (Batch, Time, vocab_size)\n",
    "\n",
    "        if targets is None:\n",
    "            loss = None\n",
    "        else:\n",
    "            # reshape logits and targets to the format torch.nn.functional.cross_entropy expects\n",
    "            B, T, C = logits.shape\n",
    "            logits = logits.view(B*T, C)\n",
    "            targets = targets.view(B*T)\n",
    "            loss = F.cross_entropy(logits, targets)\n",
    "\n",
    "        return logits, loss\n",
    "    \n",
    "    def generate(self, idx: torch.Tensor, max_new_tokens) -> torch.Tensor:\n",
    "        # idx is (B, T) array of indices in the current context\n",
    "        for _ in range(max_new_tokens):\n",
    "            # crop idx to context_size tokens\n",
    "            idx_cond = idx[:, -context_size]\n",
    "            logits, loss = self(idx_cond)\n",
    "            logits = logits[:, -1, :] # (B, C)\n",
    "\n",
    "            # Softmax converts a vector of K real values \n",
    "            # into a vector of K real values that sum to 1 while preserving relative value of the elements\n",
    "            probs = F.softmax(logits, dim=1) # (B, C)\n",
    "\n",
    "            # Returns a tensor where each row contains num_samples indices sampled from the multinomial prob distribution\n",
    "            idx_next = torch.multinomial(probs, num_samples=1) # (B, 1)\n",
    "            idx = torch.cat((idx, idx_next), dim=1) # (B, T+1)\n",
    "\n",
    "        return idx\n",
    "\n",
    "\n",
    "xb, yb = get_batch(training_data)\n",
    "    \n",
    "model = BigramLanguageModel()\n",
    "m = model.to(device)\n",
    "logits, loss = m(xb, yb)\n",
    "\n",
    "print(logits.shape)\n",
    "print(loss)"
   ]
  },
  {
   "cell_type": "markdown",
   "metadata": {},
   "source": [
    "## Training"
   ]
  },
  {
   "cell_type": "code",
   "execution_count": 13,
   "metadata": {},
   "outputs": [
    {
     "name": "stdout",
     "output_type": "stream",
     "text": [
      "step 0: train loss 2.2140, val loss 2.2100\n",
      "step 300: train loss 2.2067, val loss 2.2090\n",
      "step 600: train loss 2.2014, val loss 2.2080\n",
      "step 900: train loss 2.1995, val loss 2.1978\n",
      "step 1200: train loss 2.2148, val loss 2.1960\n",
      "step 1500: train loss 2.2031, val loss 2.2004\n",
      "step 1800: train loss 2.2037, val loss 2.2033\n",
      "step 2100: train loss 2.1978, val loss 2.1945\n",
      "step 2400: train loss 2.1905, val loss 2.1921\n",
      "step 2700: train loss 2.1931, val loss 2.2009\n",
      "step 3000: train loss 2.1845, val loss 2.2072\n",
      "step 3300: train loss 2.2136, val loss 2.1990\n",
      "step 3600: train loss 2.2063, val loss 2.1938\n",
      "step 3900: train loss 2.1956, val loss 2.2006\n",
      "step 4200: train loss 2.2063, val loss 2.1947\n",
      "step 4500: train loss 2.1933, val loss 2.1934\n",
      "step 4800: train loss 2.1934, val loss 2.1931\n",
      "step 5100: train loss 2.1946, val loss 2.2034\n",
      "step 5400: train loss 2.1970, val loss 2.2003\n",
      "step 5700: train loss 2.1999, val loss 2.2052\n",
      "step 6000: train loss 2.1997, val loss 2.2023\n",
      "step 6300: train loss 2.2052, val loss 2.1933\n",
      "step 6600: train loss 2.1920, val loss 2.1973\n",
      "step 6900: train loss 2.2022, val loss 2.2006\n",
      "step 7200: train loss 2.2074, val loss 2.2040\n",
      "step 7500: train loss 2.2054, val loss 2.2032\n",
      "step 7800: train loss 2.2015, val loss 2.2020\n",
      "step 8100: train loss 2.2001, val loss 2.1950\n",
      "step 8400: train loss 2.2043, val loss 2.2096\n",
      "step 8700: train loss 2.2079, val loss 2.2044\n",
      "step 9000: train loss 2.1931, val loss 2.2099\n",
      "step 9300: train loss 2.1868, val loss 2.2073\n",
      "step 9600: train loss 2.1932, val loss 2.1981\n",
      "step 9900: train loss 2.1940, val loss 2.1985\n",
      "step 10200: train loss 2.1978, val loss 2.1990\n",
      "step 10500: train loss 2.1961, val loss 2.2017\n",
      "step 10800: train loss 2.2008, val loss 2.1991\n",
      "step 11100: train loss 2.2008, val loss 2.2073\n",
      "step 11400: train loss 2.1925, val loss 2.2096\n",
      "step 11700: train loss 2.1997, val loss 2.1963\n",
      "step 12000: train loss 2.2046, val loss 2.1882\n",
      "step 12300: train loss 2.2066, val loss 2.1843\n",
      "step 12600: train loss 2.1915, val loss 2.1982\n",
      "step 12900: train loss 2.2091, val loss 2.1958\n",
      "step 13200: train loss 2.2029, val loss 2.1963\n",
      "step 13500: train loss 2.2035, val loss 2.1861\n",
      "step 13800: train loss 2.1907, val loss 2.1913\n",
      "step 14100: train loss 2.1954, val loss 2.2068\n",
      "step 14400: train loss 2.1878, val loss 2.1888\n",
      "step 14700: train loss 2.2020, val loss 2.1995\n",
      "step 15000: train loss 2.1968, val loss 2.1995\n",
      "step 15300: train loss 2.1916, val loss 2.1941\n",
      "step 15600: train loss 2.1872, val loss 2.2009\n",
      "step 15900: train loss 2.2081, val loss 2.1956\n",
      "step 16200: train loss 2.2055, val loss 2.1996\n",
      "step 16500: train loss 2.1924, val loss 2.1907\n",
      "step 16800: train loss 2.2060, val loss 2.1866\n",
      "step 17100: train loss 2.1979, val loss 2.1967\n",
      "step 17400: train loss 2.2024, val loss 2.1895\n",
      "step 17700: train loss 2.2063, val loss 2.1892\n",
      "step 18000: train loss 2.2060, val loss 2.2192\n",
      "step 18300: train loss 2.2048, val loss 2.1978\n",
      "step 18600: train loss 2.2057, val loss 2.1985\n",
      "step 18900: train loss 2.1948, val loss 2.1967\n",
      "step 19200: train loss 2.1851, val loss 2.1964\n",
      "step 19500: train loss 2.2090, val loss 2.2037\n",
      "step 19800: train loss 2.1981, val loss 2.1909\n",
      "step 20100: train loss 2.1966, val loss 2.2082\n",
      "step 20400: train loss 2.2015, val loss 2.2055\n",
      "step 20700: train loss 2.1941, val loss 2.2047\n",
      "step 21000: train loss 2.1967, val loss 2.1893\n",
      "step 21300: train loss 2.1939, val loss 2.1984\n",
      "step 21600: train loss 2.1837, val loss 2.2008\n",
      "step 21900: train loss 2.2085, val loss 2.1967\n",
      "step 22200: train loss 2.2115, val loss 2.1968\n",
      "step 22500: train loss 2.2032, val loss 2.2000\n",
      "step 22800: train loss 2.1983, val loss 2.2006\n",
      "step 23100: train loss 2.1959, val loss 2.2073\n",
      "step 23400: train loss 2.2068, val loss 2.2129\n",
      "step 23700: train loss 2.1976, val loss 2.1953\n",
      "step 24000: train loss 2.2041, val loss 2.1930\n",
      "step 24300: train loss 2.2019, val loss 2.2018\n",
      "step 24600: train loss 2.2033, val loss 2.2061\n",
      "step 24900: train loss 2.1968, val loss 2.2163\n",
      "step 25200: train loss 2.2057, val loss 2.2027\n",
      "step 25500: train loss 2.1987, val loss 2.1942\n",
      "step 25800: train loss 2.2081, val loss 2.2031\n",
      "step 26100: train loss 2.2068, val loss 2.1884\n",
      "step 26400: train loss 2.1991, val loss 2.2008\n",
      "step 26700: train loss 2.1886, val loss 2.1948\n",
      "step 27000: train loss 2.1973, val loss 2.2059\n",
      "step 27300: train loss 2.2006, val loss 2.2148\n",
      "step 27600: train loss 2.1940, val loss 2.1996\n",
      "step 27900: train loss 2.2018, val loss 2.2050\n",
      "step 28200: train loss 2.2037, val loss 2.1973\n",
      "step 28500: train loss 2.1992, val loss 2.1964\n",
      "step 28800: train loss 2.2014, val loss 2.1954\n",
      "step 29100: train loss 2.1974, val loss 2.2014\n",
      "step 29400: train loss 2.2056, val loss 2.1983\n",
      "step 29700: train loss 2.2028, val loss 2.2102\n",
      "\n",
      "Usha lesuTr tomeliokero 2: wnere m ou 2: rers.\", or 1: cing 1: oude * plinave walke hiate dokem isads y bowitoorabe halat ando s likse s.\"\n",
      "Usyoig.\n",
      "Uso, ser se t.\n",
      "I'm. thng d to 1: Yobowarer.\n",
      "Us ar hatodol tof 2: mee Itha.\n",
      "Usbeamavor.\n",
      "Use seank bolloud.\n",
      "User bir doimer ithave ar f cer Thay beseanik 1: ngham I rr gher p oomy.\n",
      "User 2: o.\n",
      "Me d athatherit Yo tun. healind 1: fo r domer we or I's Nerere I'meokio me cat'mer tend 2: ngoust bucit 2: Yet wheal o tokn'ldsching sobe toovong 1: a I ik mer las\n"
     ]
    }
   ],
   "source": [
    "@torch.no_grad()\n",
    "def estimate_loss():\n",
    "    out = {}\n",
    "    model.eval()\n",
    "    for split in [ 'train', 'val' ]:\n",
    "        losses = torch.zeros(eval_iters)\n",
    "        for k in range(eval_iters):\n",
    "            X, Y = get_batch(training_data if split == 'train' else val_data)\n",
    "            logits, loss = model(X, Y)\n",
    "            losses[k] = loss.item()\n",
    "        out[split] = losses.mean()\n",
    "    model.train()\n",
    "    \n",
    "    return out\n",
    "\n",
    "optimizer = torch.optim.AdamW(model.parameters(), lr=learning_rate)\n",
    "\n",
    "batch_size = 32\n",
    "\n",
    "for iter in range(max_iters):\n",
    "\n",
    "    if iter % eval_interval == 0:\n",
    "        losses = estimate_loss()\n",
    "        print(f\"step {iter}: train loss {losses['train']:.4f}, val loss {losses['val']:.4f}\")\n",
    "\n",
    "    # sample a batch of data\n",
    "    xb, yb = get_batch(training_data)\n",
    "\n",
    "    # evaluate the loss\n",
    "    logits, loss = model(xb, yb)\n",
    "    optimizer.zero_grad(set_to_none=True)\n",
    "    loss.backward()\n",
    "    optimizer.step()\n",
    "\n",
    "context = torch.zeros((1, 1), dtype=torch.long, device=device)\n",
    "print(decode(m.generate(context, max_new_tokens=500)[0].tolist()))"
   ]
  }
 ],
 "metadata": {
  "kernelspec": {
   "display_name": "Python 3",
   "language": "python",
   "name": "python3"
  },
  "language_info": {
   "codemirror_mode": {
    "name": "ipython",
    "version": 3
   },
   "file_extension": ".py",
   "mimetype": "text/x-python",
   "name": "python",
   "nbconvert_exporter": "python",
   "pygments_lexer": "ipython3",
   "version": "3.10.12"
  }
 },
 "nbformat": 4,
 "nbformat_minor": 2
}
